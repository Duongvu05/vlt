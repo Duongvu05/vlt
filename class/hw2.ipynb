{
 "cells": [
  {
   "cell_type": "markdown",
   "metadata": {
    "id": "tuy9KmHyXHbb"
   },
   "source": [
    "Make sure you :\n",
    "- Fill in your name\n",
    "- Fill any place that says `YOUR CODE HERE` (you will be graded based on this code, any extra cells you code will not be graded)\n",
    "- Delete  `NotImplementedError()` exception once you have completed your implementation"
   ]
  },
  {
   "cell_type": "code",
   "execution_count": 49,
   "metadata": {
    "id": "L-ARluL6XDka"
   },
   "outputs": [],
   "source": [
    "NAME = \"Vũ Ngọc Dương\""
   ]
  },
  {
   "cell_type": "markdown",
   "metadata": {
    "id": "TF7aRcdCXPK7"
   },
   "source": [
    "# Problem 1: Algorithm Analysis Fundamentals (4)\n",
    "\n",
    "Give the appropriate answers for the questions below, **you only need 1 sentence for each question**.\n",
    "\n",
    "1. What is Big O analysis?\n",
    "1. How do you use Big O notation to analyze the time complexity of an algorithm?\n",
    "2. Why is Big O analysis important?\n",
    "3. What a worst-case scenario is in the context of Big O Analysis?\n",
    "3. (Optional) What is your understanding of space complexity?\n",
    "4. (Optional) Is it different fromtime complexity? If yes, then how?"
   ]
  },
  {
   "cell_type": "markdown",
   "metadata": {
    "deletable": false,
    "id": "SIzC1A3bf2_F",
    "nbgrader": {
     "cell_type": "markdown",
     "checksum": "0614a7dd28049dcb163c0adffa546aee",
     "grade": true,
     "grade_id": "cell-817f93431f2f71ae",
     "locked": false,
     "points": 4,
     "schema_version": 3,
     "solution": true,
     "task": false
    }
   },
   "source": [
    "1. Big O analysis is a way to measure the time or space complexity of an algorithm.\n",
    "2. You use Big O notation to analyze the time complexity of an algorithm by comparing its performance to the performance of other algorithms.\n",
    "3. Big O analysis is important because it helps you understand the performance of an algorithm and how it will behave in different scenarios.\n",
    "4. A worst-case scenario is the maximum amount of time an algorithm can take to complete a task, and it is used to describe the time complexity of an algorithm.\n",
    "5. Space complexity is a measure of how much memory an algorithm uses. It is different from time complexity because it measures memory usage instead of time."
   ]
  },
  {
   "cell_type": "markdown",
   "metadata": {
    "id": "eWz2MyWFXRQq"
   },
   "source": [
    "# Problem 2: Time complexity (2)\n",
    "\n",
    "Find the time complexity for the following algorithm. For this problem, you need to:\n",
    "- Add a markdown below each question and Write the calculation at each step into the markdown block. You need to find `f(n)`, `g(n)`, `c` then compute the final time complexity\n",
    "- Write the answer you calculate above into the code block right below the markdown block\n",
    "- The power is denoted as '^' for example `O(N^2)`. If the result contains multiplication, it should look like `O(NLOG(N))` for example.\n",
    "- **Note**: The final answer should be in UPPERCASE. The problem will be auto-graded; therefore, the TA will not be responsible for any misinformation.\n",
    "\n",
    "The first example is given as below"
   ]
  },
  {
   "cell_type": "markdown",
   "metadata": {
    "id": "NevOoMraY9qL"
   },
   "source": [
    "#### Example"
   ]
  },
  {
   "cell_type": "code",
   "execution_count": 50,
   "metadata": {
    "id": "0dZQIpTQgNe2"
   },
   "outputs": [],
   "source": [
    "def example(alist):\n",
    "    prefix_sum = 0\n",
    "    for i in alist:\n",
    "        prefix_sum += i\n",
    "    return prefix_sum"
   ]
  },
  {
   "cell_type": "markdown",
   "metadata": {
    "id": "DiPWFrZwZFrm"
   },
   "source": [
    "- f(n) = 1 + 2n + 1 = 2n + 2\n",
    "- g(n) = n\n",
    "- c = 4\n",
    "- f(n) <= cg(n) <=> 2n+2 <= 4n => O(n)"
   ]
  },
  {
   "cell_type": "code",
   "execution_count": 51,
   "metadata": {
    "id": "J8jijCRzgN0b"
   },
   "outputs": [],
   "source": [
    "example = 'O(N)'"
   ]
  },
  {
   "cell_type": "markdown",
   "metadata": {
    "id": "4uhn9eAZZKMP"
   },
   "source": [
    "#### Now solve the problems"
   ]
  },
  {
   "cell_type": "code",
   "execution_count": 52,
   "metadata": {
    "id": "RIqlDUwXa1ZF"
   },
   "outputs": [],
   "source": [
    "#a\n",
    "def process_data(alist):\n",
    "  total = 0\n",
    "  for i in range(0, len(alist), 2):  # increment by 2\n",
    "      total += alist[i]\n",
    "  return total"
   ]
  },
  {
   "cell_type": "markdown",
   "metadata": {},
   "source": [
    "- f(n) = 1 + n + 1 = n + 2\n",
    "- g(n) = n\n",
    "- c = 3\n",
    "- f(n) <= cg(n) <=> n +2 <= 3n => O(n)"
   ]
  },
  {
   "cell_type": "code",
   "execution_count": 53,
   "metadata": {
    "id": "5H31nwoBcR1W"
   },
   "outputs": [],
   "source": [
    "a = \"O(N)\""
   ]
  },
  {
   "cell_type": "code",
   "execution_count": 54,
   "metadata": {
    "deletable": false,
    "editable": false,
    "id": "U9B6rmUCHPJC",
    "nbgrader": {
     "cell_type": "code",
     "checksum": "345cb43c6c184c2243592850ad964e6e",
     "grade": true,
     "grade_id": "cell-edd21939a7605a17",
     "locked": true,
     "points": 0.5,
     "schema_version": 3,
     "solution": false,
     "task": false
    }
   },
   "outputs": [],
   "source": [
    "# DO NOT DELETE THIS CELL"
   ]
  },
  {
   "cell_type": "code",
   "execution_count": 55,
   "metadata": {
    "id": "D7rKg80EZREb"
   },
   "outputs": [],
   "source": [
    "#b\n",
    "def do_something(n):\n",
    "  # n: int\n",
    "  # a: dictionary (int -> int)\n",
    "  a = {}\n",
    "  for i in range(0, n):\n",
    "      a[i] = i\n",
    "  for i in range(0, n):\n",
    "      for j in range(0, n):\n",
    "          print(a[i] * a[j])"
   ]
  },
  {
   "cell_type": "markdown",
   "metadata": {},
   "source": [
    "- f(n) = 1 + 2n + 2n^2 = 2n^2 + 2n + 1\n",
    "- g(n) = n^2\n",
    "- c = 5\n",
    "- f(n) <= cg(n) <=> 2n^2 + 2n + 1 <= 5n^2 => O(n^2)"
   ]
  },
  {
   "cell_type": "code",
   "execution_count": 56,
   "metadata": {
    "id": "UaQENw97cWno"
   },
   "outputs": [],
   "source": [
    "b = \"O(N^2)\""
   ]
  },
  {
   "cell_type": "code",
   "execution_count": 57,
   "metadata": {
    "deletable": false,
    "editable": false,
    "id": "Q1o0OosAIzbm",
    "nbgrader": {
     "cell_type": "code",
     "checksum": "3bb469760ef7b8ca9ec39de6abf0a9a1",
     "grade": true,
     "grade_id": "cell-3c22a4a45092cd03",
     "locked": true,
     "points": 0.5,
     "schema_version": 3,
     "solution": false,
     "task": false
    }
   },
   "outputs": [],
   "source": [
    "# DO NOT DELETE THIS CELL"
   ]
  },
  {
   "cell_type": "code",
   "execution_count": 58,
   "metadata": {
    "id": "qIEi2Ksgb3Nm"
   },
   "outputs": [],
   "source": [
    "#c\n",
    "def mixed_operations(n):\n",
    "    sum = 0\n",
    "    for i in range(n):\n",
    "        sum += 1\n",
    "        k = n\n",
    "        while k > 0:\n",
    "            k //= 2\n",
    "    return sum"
   ]
  },
  {
   "cell_type": "markdown",
   "metadata": {},
   "source": [
    "- f(n) = 1 + n(1 + 1 + logn) + 1 = 1 + 2n + nlogn + 1 = 2 + 2n + nlogn\n",
    "- g(n) = nlogn\n",
    "- c = 2\n",
    "- f(n) <= c.g(n) <=> nlogn + 2n + 2 <= 2nlogn => O(nlogn)"
   ]
  },
  {
   "cell_type": "code",
   "execution_count": 59,
   "metadata": {
    "id": "9mQBs4sMcdWa"
   },
   "outputs": [],
   "source": [
    "c = \"O(NlogN)\""
   ]
  },
  {
   "cell_type": "code",
   "execution_count": 60,
   "metadata": {
    "deletable": false,
    "editable": false,
    "id": "fa1UMmEZKLpR",
    "nbgrader": {
     "cell_type": "code",
     "checksum": "842bd6c25ccee462e37be72f5e253d89",
     "grade": true,
     "grade_id": "cell-ccfc5e862cb36f3b",
     "locked": true,
     "points": 0.5,
     "schema_version": 3,
     "solution": false,
     "task": false
    }
   },
   "outputs": [],
   "source": [
    "# DO NOT DELETE THIS CELL"
   ]
  },
  {
   "cell_type": "code",
   "execution_count": 61,
   "metadata": {
    "id": "g0PvLRrDcC3l"
   },
   "outputs": [],
   "source": [
    "#d\n",
    "def recursive_function(n):\n",
    "    if n <= 1:\n",
    "        return n\n",
    "    else:\n",
    "        return recursive_function(n - 1) + recursive_function(n - 2)"
   ]
  },
  {
   "cell_type": "markdown",
   "metadata": {},
   "source": [
    "- f(n) = f(n - 1) + f(n - 2) + 1\n",
    "- g(n) = 2^n\n",
    "- c = 1\n",
    "- f(n) <= c.g(n) <=> f(n - 1) + f(n - 2) + 1 <= c.2^n => O(2^n)"
   ]
  },
  {
   "cell_type": "code",
   "execution_count": 62,
   "metadata": {
    "id": "MVQ8vz0ccvgC"
   },
   "outputs": [],
   "source": [
    "d = \"O(2^N)\""
   ]
  },
  {
   "cell_type": "code",
   "execution_count": 63,
   "metadata": {
    "deletable": false,
    "editable": false,
    "id": "zQUKRcyYKm2R",
    "nbgrader": {
     "cell_type": "code",
     "checksum": "e3c08838fc77a5e61dcdbaeada910183",
     "grade": true,
     "grade_id": "cell-7c0c3a7c5b96d88a",
     "locked": true,
     "points": 0.5,
     "schema_version": 3,
     "solution": false,
     "task": false
    }
   },
   "outputs": [],
   "source": [
    "# DO NOT DELETE THIS CELL"
   ]
  },
  {
   "cell_type": "markdown",
   "metadata": {
    "id": "YIh-j592XTM_"
   },
   "source": [
    "# Problem 3"
   ]
  },
  {
   "cell_type": "markdown",
   "metadata": {
    "id": "a27oFicSbkc0"
   },
   "source": [
    "### Question 1: Given an integer x, return true if x is a palindrome, and false otherwise. Give your code and your time complexity (1)\n",
    "\n"
   ]
  },
  {
   "cell_type": "code",
   "execution_count": 64,
   "metadata": {
    "deletable": false,
    "id": "YtRcBwD5XDnC",
    "nbgrader": {
     "cell_type": "code",
     "checksum": "1d4434a02cef1c9a93b1449c14e26470",
     "grade": false,
     "grade_id": "cell-6c0f5e8618d39863",
     "locked": false,
     "schema_version": 3,
     "solution": true,
     "task": false
    }
   },
   "outputs": [],
   "source": [
    "def palindrome(x: int) -> bool:\n",
    "    \"\"\"\n",
    "    This function checks if a given integer is a palindrome or not.\n",
    "    \n",
    "    Parameters:\n",
    "    x (int): The integer to be checked.\n",
    "    \n",
    "    Returns:\n",
    "    bool: True if x is a palindrome, and False otherwise.\n",
    "    \"\"\"\n",
    "    # Convert the integer to a string\n",
    "    str_x = str(x)\n",
    "    \n",
    "    # Reverse the string\n",
    "    rev_str_x = str_x[::-1]\n",
    "    \n",
    "    # Compare the original string with the reversed string\n",
    "    if str_x == rev_str_x:\n",
    "        return True\n",
    "    else:\n",
    "        return False\n"
   ]
  },
  {
   "cell_type": "code",
   "execution_count": 65,
   "metadata": {
    "id": "A3qOwin5XDpK"
   },
   "outputs": [],
   "source": [
    "assert palindrome(121) == True\n",
    "assert palindrome(122121) == False"
   ]
  },
  {
   "cell_type": "code",
   "execution_count": 66,
   "metadata": {
    "deletable": false,
    "editable": false,
    "id": "6vbfVjdnyJDt",
    "nbgrader": {
     "cell_type": "code",
     "checksum": "24714376b431c1ef39490a3121c7c35a",
     "grade": true,
     "grade_id": "cell-a1c53fa7cf41ea7b",
     "locked": true,
     "points": 0.5,
     "schema_version": 3,
     "solution": false,
     "task": false
    }
   },
   "outputs": [],
   "source": [
    "# DO NOT DELETE THIS CELL"
   ]
  },
  {
   "cell_type": "markdown",
   "metadata": {
    "deletable": false,
    "id": "6NWwbVdqeuOw",
    "nbgrader": {
     "cell_type": "markdown",
     "checksum": "9bcbf6f0fa7249272cb0f0410fd9e162",
     "grade": true,
     "grade_id": "cell-572101df119fb008",
     "locked": false,
     "points": 0.5,
     "schema_version": 3,
     "solution": true,
     "task": false
    }
   },
   "source": [
    "YOUR ANSWER HERE"
   ]
  },
  {
   "cell_type": "markdown",
   "metadata": {},
   "source": [
    "- f(n) = 1 + $log_{10}(x)$ + $log_{10}(x)$ = 2$log_{10}(x)$ + 1\n",
    "- g(n) = $log_{10}(x)$\n",
    "- c = 3\n",
    "- f(n) <= c.g(n) <=> 2.$log_{10}(x)$ + 1 <= 3.$log_{10}(x)$ => O($log_{10}(x)$)"
   ]
  },
  {
   "cell_type": "markdown",
   "metadata": {
    "id": "DGHlRj6LlD6H"
   },
   "source": [
    "### Question 2: Give a function `count_pairs(arr)`  that takes a list of integers, `arr = [a[1], a[2], ..., a[n]]`. Counts all possible pairs `(a[i], a[j])` such that `a[i] < a[j]` and `i < j`. (1)\n"
   ]
  },
  {
   "cell_type": "code",
   "execution_count": 67,
   "metadata": {
    "deletable": false,
    "id": "yHxlxOPnl0YQ",
    "nbgrader": {
     "cell_type": "code",
     "checksum": "6c2c5feda1df16c7ec4a6b3b07446b20",
     "grade": false,
     "grade_id": "cell-14d47c766a795810",
     "locked": false,
     "schema_version": 3,
     "solution": true,
     "task": false
    }
   },
   "outputs": [],
   "source": [
    "def count_pairs(arr: list) -> int:\n",
    "  count = 0\n",
    "  for i in range(len(arr)):\n",
    "    for j in range(i+1, len(arr)):\n",
    "      if arr[i] < arr[j]:\n",
    "        count += 1\n",
    "  return count\n"
   ]
  },
  {
   "cell_type": "code",
   "execution_count": 68,
   "metadata": {
    "id": "RydbkGKiFvDd"
   },
   "outputs": [],
   "source": [
    "assert count_pairs([1,2,3]) == 3"
   ]
  },
  {
   "cell_type": "code",
   "execution_count": 69,
   "metadata": {
    "deletable": false,
    "editable": false,
    "id": "yg-_1KhMMOYd",
    "nbgrader": {
     "cell_type": "code",
     "checksum": "458d81395441e2e25cf639c521edd86c",
     "grade": true,
     "grade_id": "cell-1a8265854343fb96",
     "locked": true,
     "points": 0.5,
     "schema_version": 3,
     "solution": false,
     "task": false
    }
   },
   "outputs": [],
   "source": [
    "# DO NOT DELETE THIS CELL"
   ]
  },
  {
   "cell_type": "markdown",
   "metadata": {
    "deletable": false,
    "id": "mH0ua3U1MvrH",
    "nbgrader": {
     "cell_type": "markdown",
     "checksum": "b1fc856bec831b80a1af1d39f3f06cc1",
     "grade": true,
     "grade_id": "cell-5c1d0d638c3d6711",
     "locked": false,
     "points": 0.5,
     "schema_version": 3,
     "solution": true,
     "task": false
    }
   },
   "source": [
    "YOUR ANSWER HERE"
   ]
  },
  {
   "cell_type": "markdown",
   "metadata": {},
   "source": [
    "O(N^2)"
   ]
  },
  {
   "cell_type": "markdown",
   "metadata": {
    "id": "5Q7AvmSHc4VN"
   },
   "source": [
    "# Problem 4: Binary Search (2)\n",
    "\n",
    "Implement Binary Search to find the index of a given value in a sorted list. Return -1 if the value is not in the list. Calculate the time complexity of the Binary Search Algorithm.\n",
    "\n"
   ]
  },
  {
   "cell_type": "code",
   "execution_count": 70,
   "metadata": {
    "deletable": false,
    "id": "R7jnLk3oc-tS",
    "nbgrader": {
     "cell_type": "code",
     "checksum": "361e6ada6c06e2787a498f8d9e02eaf1",
     "grade": false,
     "grade_id": "cell-50b67508ce138291",
     "locked": false,
     "schema_version": 3,
     "solution": true,
     "task": false
    }
   },
   "outputs": [],
   "source": [
    "def binary_search(alist, val) -> int:\n",
    "    start = 0\n",
    "    end = len(alist) - 1\n",
    "    while start <= end:\n",
    "        mid = (start + end) // 2\n",
    "        if alist[mid] == val:\n",
    "            return mid\n",
    "        elif alist[mid] < val:\n",
    "            start = mid + 1\n",
    "        else:\n",
    "            end = mid - 1\n",
    "    return -1\n",
    "\n",
    "# Time complexity: O(log n)\n"
   ]
  },
  {
   "cell_type": "code",
   "execution_count": 71,
   "metadata": {
    "id": "HAiSXT99NGxp"
   },
   "outputs": [],
   "source": [
    "assert binary_search([1,2,3,4,5,6,7,8,9,10], 5) == 4\n",
    "assert binary_search([1,2,3,4,5,6,7,8,9,10], 11) == -1"
   ]
  },
  {
   "cell_type": "code",
   "execution_count": 72,
   "metadata": {
    "deletable": false,
    "editable": false,
    "id": "LbZqTu0zNTYR",
    "nbgrader": {
     "cell_type": "code",
     "checksum": "1251831588b85a364acb73ff91956c18",
     "grade": true,
     "grade_id": "cell-304d692838563111",
     "locked": true,
     "points": 0.5,
     "schema_version": 3,
     "solution": false,
     "task": false
    }
   },
   "outputs": [],
   "source": [
    "# DO NOT DELETE THIS CELL"
   ]
  },
  {
   "cell_type": "code",
   "execution_count": 73,
   "metadata": {
    "deletable": false,
    "editable": false,
    "id": "gk5LDULcN0fp",
    "nbgrader": {
     "cell_type": "code",
     "checksum": "2e9fb57915829862d869e09411b5bcd6",
     "grade": true,
     "grade_id": "cell-d9590360200d471b",
     "locked": true,
     "points": 0.5,
     "schema_version": 3,
     "solution": false,
     "task": false
    }
   },
   "outputs": [],
   "source": [
    "# DO NOT DELETE THIS CELL"
   ]
  },
  {
   "cell_type": "code",
   "execution_count": 74,
   "metadata": {
    "deletable": false,
    "editable": false,
    "id": "yrxfVVpsN0lz",
    "nbgrader": {
     "cell_type": "code",
     "checksum": "bd92c0e5b552814793bbea8c6bab9c97",
     "grade": true,
     "grade_id": "cell-acec3572103a672d",
     "locked": true,
     "points": 0.5,
     "schema_version": 3,
     "solution": false,
     "task": false
    }
   },
   "outputs": [],
   "source": [
    "# DO NOT DELETE THIS CELL"
   ]
  },
  {
   "cell_type": "markdown",
   "metadata": {
    "deletable": false,
    "id": "PmpF9lVMN_y4",
    "nbgrader": {
     "cell_type": "markdown",
     "checksum": "18fe5044b25809413eb5029fcf5eec77",
     "grade": true,
     "grade_id": "cell-4bcacde786e92947",
     "locked": false,
     "points": 0.5,
     "schema_version": 3,
     "solution": true,
     "task": false
    }
   },
   "source": [
    "YOUR ANSWER HERE"
   ]
  },
  {
   "cell_type": "markdown",
   "metadata": {},
   "source": [
    "O(n) = O(logn)\n"
   ]
  }
 ],
 "metadata": {
  "colab": {
   "provenance": []
  },
  "kernelspec": {
   "display_name": "Python 3",
   "language": "python",
   "name": "python3"
  },
  "language_info": {
   "codemirror_mode": {
    "name": "ipython",
    "version": 3
   },
   "file_extension": ".py",
   "mimetype": "text/x-python",
   "name": "python",
   "nbconvert_exporter": "python",
   "pygments_lexer": "ipython3",
   "version": "3.7.8"
  }
 },
 "nbformat": 4,
 "nbformat_minor": 4
}
