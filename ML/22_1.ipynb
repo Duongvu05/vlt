{
 "cells": [
  {
   "cell_type": "code",
   "execution_count": 9,
   "metadata": {},
   "outputs": [
    {
     "name": "stdout",
     "output_type": "stream",
     "text": [
      "[array([ -0.68673825,   0.126928  ,  -5.9514127 , -11.98185   ,\n",
      "       -28.858236  ], dtype=float32)]\n"
     ]
    }
   ],
   "source": [
    "import tensorflow as tf \n",
    "  \n",
    "# type list \n",
    "input = [1., 2., 3., 4., 5.89] \n",
    "output = [2, 1, 3, 4, 5.9] \n",
    "  \n",
    "# conversion to tensor \n",
    "# input means actual \n",
    "input = tf.convert_to_tensor(input, \n",
    "                             dtype=tf.float32) \n",
    "# Output means predicted \n",
    "output = tf.convert_to_tensor(output, \n",
    "                              dtype=tf.float32) \n",
    "  \n",
    "# calculating the deviation between \n",
    "# actual and predicted values \n",
    "x = tf.nn.sigmoid_cross_entropy_with_logits( \n",
    "    labels=output, logits=input)\n",
    "\n",
    "with tf.Session() as sess:\n",
    "    sess.run(tf.global_variables_initializer())\n",
    "    x = sess.run([x])\n",
    "\n",
    "\n",
    "    print(x)"
   ]
  }
 ],
 "metadata": {
  "kernelspec": {
   "display_name": "Python 3",
   "language": "python",
   "name": "python3"
  },
  "language_info": {
   "codemirror_mode": {
    "name": "ipython",
    "version": 3
   },
   "file_extension": ".py",
   "mimetype": "text/x-python",
   "name": "python",
   "nbconvert_exporter": "python",
   "pygments_lexer": "ipython3",
   "version": "3.7.8"
  }
 },
 "nbformat": 4,
 "nbformat_minor": 2
}
